{
  "cells": [
    {
      "cell_type": "code",
      "execution_count": 3,
      "metadata": {
        "colab": {
          "base_uri": "https://localhost:8080/"
        },
        "id": "ma5BTSJ6CqBH",
        "outputId": "a6c4e837-f910-41d0-c3c0-691864e6e73b"
      },
      "outputs": [
        {
          "name": "stdout",
          "output_type": "stream",
          "text": [
            "Requirement already satisfied: facebook-sdk in /usr/local/lib/python3.10/dist-packages (3.1.0)\n",
            "Requirement already satisfied: requests in /usr/local/lib/python3.10/dist-packages (from facebook-sdk) (2.32.3)\n",
            "Requirement already satisfied: charset-normalizer<4,>=2 in /usr/local/lib/python3.10/dist-packages (from requests->facebook-sdk) (3.4.0)\n",
            "Requirement already satisfied: idna<4,>=2.5 in /usr/local/lib/python3.10/dist-packages (from requests->facebook-sdk) (3.10)\n",
            "Requirement already satisfied: urllib3<3,>=1.21.1 in /usr/local/lib/python3.10/dist-packages (from requests->facebook-sdk) (2.2.3)\n",
            "Requirement already satisfied: certifi>=2017.4.17 in /usr/local/lib/python3.10/dist-packages (from requests->facebook-sdk) (2024.8.30)\n"
          ]
        }
      ],
      "source": [
        "pip install facebook-sdk"
      ]
    },
    {
      "cell_type": "code",
      "execution_count": 4,
      "metadata": {
        "id": "mERmN8UyBtg-"
      },
      "outputs": [],
      "source": [
        "import facebook\n",
        "import openpyxl\n",
        "import json\n",
        "from datetime import datetime\n",
        "import time\n",
        "from collections import defaultdict\n",
        "import pandas as pd"
      ]
    },
    {
      "cell_type": "code",
      "execution_count": 6,
      "metadata": {
        "colab": {
          "base_uri": "https://localhost:8080/"
        },
        "id": "6ni88o3VDB9O",
        "outputId": "912f5f8c-3d3c-474e-cd43-3fa8e80ed5d5"
      },
      "outputs": [
        {
          "name": "stdout",
          "output_type": "stream",
          "text": [
            "Token hợp lệ\n",
            "ID--------------------Created Time-------------Message\n",
            "2009694176145075_1948794335568393----------2024-09-10T20:01:05+0000-------No message\n",
            "2009694176145075_1944701779310982----------2024-09-05T18:21:02+0000-------No message\n",
            "2009694176145075_1933933140387846----------2024-08-22T16:38:33+0000-------No message\n",
            "2009694176145075_1932108307236996----------2024-08-20T08:32:06+0000-------No message\n",
            "2009694176145075_1914670745647419----------2024-07-27T05:08:00+0000-------No message\n",
            "2009694176145075_1903257950122032----------2024-07-09T16:10:15+0000-------No message\n",
            "2009694176145075_1890466044734556----------2024-06-20T08:55:14+0000-------No message\n",
            "2009694176145075_1824126141368547----------2024-03-05T19:45:48+0000-------No message\n",
            "2009694176145075_1796369250810903----------2024-01-19T15:57:39+0000-------No message\n",
            "dữ liệu đã lưu vào facebook_data.xlsx\n"
          ]
        }
      ],
      "source": [
        "class FacebookCollector:\n",
        "    def __init__(self, access_token):\n",
        "        try:\n",
        "            self.access_token = access_token\n",
        "            self.graph = facebook.GraphAPI(access_token)\n",
        "        except Exception as e:\n",
        "            print(f\"Error: {e}\")\n",
        "\n",
        "    def checks_token_validity(self):\n",
        "        try:\n",
        "            me = self.graph.get_object(\"me\", fields=\"id,name\")\n",
        "            print(\"Token hợp lệ\")\n",
        "            return True\n",
        "        except Exception:\n",
        "            print(\"Token không hợp lệ\")\n",
        "            return False\n",
        "\n",
        "    def collect_data(self, limit=5):\n",
        "        try:\n",
        "            fields = 'id,message,created_time'\n",
        "            posts = self.graph.get_object(\n",
        "                \"me/feed\",\n",
        "                fields=fields,\n",
        "                limit=limit\n",
        "            )\n",
        "            return posts.get('data', [])\n",
        "        except Exception as e:\n",
        "            print(f\"lỗi thu thập dữ liệu: {e}\")\n",
        "            return []\n",
        "\n",
        "def save_to_excel(data, file_name=\"facebook_data.xlsx\"):\n",
        "    try:\n",
        "        # Tạo file Excel mới\n",
        "        workbook = openpyxl.Workbook()\n",
        "        sheet = workbook.active\n",
        "        sheet.title = \"Facebook Data\"\n",
        "\n",
        "        # Ghi tiêu đề cột\n",
        "        sheet.append([\"id\", \"created_time\", \"message\"])\n",
        "\n",
        "        # Ghi dữ liệu vào file\n",
        "        for post in data:\n",
        "            post_id = post.get('id', '')\n",
        "            created_time = post.get('created_time', '')\n",
        "            message = post.get('message', '')\n",
        "            sheet.append([post_id, created_time, message])\n",
        "\n",
        "        # Lưu file Excel\n",
        "        workbook.save(file_name)\n",
        "        print(f\"dữ liệu đã lưu vào {file_name}\")\n",
        "    except Exception as e:\n",
        "        print(f\"lỗi lưu tệp: {e}\")\n",
        "\n",
        "def display_data(data):\n",
        "    print(\"ID--------------------Created Time-------------Message\")\n",
        "    for post in data:\n",
        "        post_id = post.get('id', 'N/A')\n",
        "        created_time = post.get('created_time', 'N/A')\n",
        "        message = post.get('message', 'No message')\n",
        "        print(f\"{post_id}----------{created_time}-------{message}\")\n",
        "\n",
        "# Sử dụng\n",
        "access_token = \"EAAPcK3N7PjQBO0xyhhBtdkmhWah5prJ9oI8qX76bMRcB4miTJFaJKujrUkKEZBTjLZCTzva2kZA0W26gFQIZCJN7Sflj2ZArR3bZCi33VPwXhKThToZAwTp2gOXPsFZCAC9tRII0kCVmGsIem9IIJOxjZCZAnePkEQZBVY7lksT5p5IM1RBsXEVbv9oG3kVZBOTPDGsjCn2jpvpz4ZCKWl6X63tNp1OzwXtFCvY6pV8Wv8MbHhZCyqVpYQdC0NSN0SagJYiTAZD\"\n",
        "collector = FacebookCollector(access_token)\n",
        "\n",
        "if collector.checks_token_validity():\n",
        "    data = collector.collect_data(limit=10)\n",
        "    display_data(data)\n",
        "    save_to_excel(data, \"facebook_data.xlsx\")\n",
        "else:\n",
        "    print(\"Invalid Access Token\")\n"
      ]
    },
    {
      "cell_type": "code",
      "execution_count": 5,
      "metadata": {
        "id": "qbYZksIkXCMa"
      },
      "outputs": [],
      "source": []
    }
  ],
  "metadata": {
    "colab": {
      "provenance": []
    },
    "kernelspec": {
      "display_name": "Python 3",
      "name": "python3"
    }
  },
  "nbformat": 4,
  "nbformat_minor": 0
}

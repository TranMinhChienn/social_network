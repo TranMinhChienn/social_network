{
  "nbformat": 4,
  "nbformat_minor": 0,
  "metadata": {
    "colab": {
      "provenance": []
    },
    "kernelspec": {
      "name": "python3",
      "display_name": "Python 3"
    },
    "language_info": {
      "name": "python"
    }
  },
  "cells": [
    {
      "cell_type": "code",
      "execution_count": 3,
      "metadata": {
        "id": "8hSamAP_KjET"
      },
      "outputs": [],
      "source": [
        "import networkx as nx\n",
        "import pandas as pd\n",
        "import matplotlib.pyplot as plt"
      ]
    },
    {
      "cell_type": "code",
      "source": [
        "import networkx as nx\n",
        "import requests\n",
        "import os\n",
        "\n",
        "# URL của tập dữ liệu\n",
        "url = \"https://snap.stanford.edu/data/facebook_combined.txt.gz\"\n",
        "local_filename = \"facebook_combined.txt.gz\"\n",
        "\n",
        "# Tải file từ URL\n",
        "if not os.path.exists(local_filename):\n",
        "    print(f\"Downloading {local_filename}...\")\n",
        "    response = requests.get(url)\n",
        "    with open(local_filename, 'wb') as f:\n",
        "        f.write(response.content)\n"
      ],
      "metadata": {
        "id": "8Kz68wh2LEDH",
        "colab": {
          "base_uri": "https://localhost:8080/"
        },
        "outputId": "20cdd6b1-2f28-439c-e5ef-332964bb7583"
      },
      "execution_count": 4,
      "outputs": [
        {
          "output_type": "stream",
          "name": "stdout",
          "text": [
            "Downloading facebook_combined.txt.gz...\n"
          ]
        }
      ]
    },
    {
      "cell_type": "code",
      "source": [
        "# Đọc file edge list\n",
        "G = nx.read_edgelist(local_filename, create_using=nx.Graph(), nodetype=int)\n",
        "\n",
        "# Lọc lại đồ thị để chỉ lấy 1000 nút\n",
        "nodes = list(G.nodes())[:1000]\n",
        "G = G.subgraph(nodes)\n",
        "\n",
        "\n",
        "\n",
        "# Find communities using girvan-newman\n",
        "communities = list(nx.algorithms.community.girvan_newman(G))"
      ],
      "metadata": {
        "id": "6AQkJZFhUL98"
      },
      "execution_count": null,
      "outputs": []
    },
    {
      "cell_type": "code",
      "source": [
        "modularity_data = []\n",
        "for k in range(len(communities)-2 ):\n",
        "  modularity = nx.algorithms.community.modularity(G, communities[k])\n",
        "  modularity_data.append((k +1 , modularity))\n",
        "\n",
        "# data frame\n",
        "modularity_df = pd.DataFrame(modularity_data, columns=['k', 'Modularity'])"
      ],
      "metadata": {
        "id": "MNR-RPKjLflu"
      },
      "execution_count": null,
      "outputs": []
    },
    {
      "cell_type": "code",
      "source": [
        "modularity_df"
      ],
      "metadata": {
        "id": "5XQKJV8vM-DP"
      },
      "execution_count": null,
      "outputs": []
    },
    {
      "cell_type": "code",
      "source": [
        "import matplotlib.pyplot as plt\n",
        "\n",
        "def plot_modularity(modularity_df):\n",
        "    \"\"\"\n",
        "    Hàm vẽ biểu đồ đường biểu diễn mối quan hệ giữa k và Modularity.\n",
        "\n",
        "    Parameters:\n",
        "        modularity_df (pd.DataFrame): DataFrame chứa hai cột 'k' và 'Modularity'.\n",
        "    \"\"\"\n",
        "    plt.figure(figsize=(8, 6))\n",
        "    plt.plot(modularity_df['k'], modularity_df['Modularity'], marker='o', linestyle='-', color='b', label='Modularity')\n",
        "    plt.title(\"Relationship Between k and Modularity\", fontsize=14)\n",
        "    plt.xlabel(\"k (Number of Communities)\", fontsize=12)\n",
        "    plt.ylabel(\"Modularity\", fontsize=12)\n",
        "    plt.grid(alpha=0.5)\n",
        "    plt.legend()\n",
        "    plt.tight_layout()\n",
        "    plt.show()\n",
        "\n",
        "# Gọi hàm vẽ với dữ liệu modularity_df\n",
        "plot_modularity(modularity_df)\n"
      ],
      "metadata": {
        "id": "tE2remIDNA1k"
      },
      "execution_count": null,
      "outputs": []
    },
    {
      "cell_type": "code",
      "source": [
        "# function to create node colour list\n",
        "def create_community_node_colors(graph, communities):\n",
        "    number_of_colors = len(communities)\n",
        "    colors = [\"#D4FCB1\", \"#CDC5FC\", \"#FFC2C4\", \"#F2D140\", \"#BCC6C8\"][:number_of_colors]\n",
        "    node_colors = []\n",
        "    for node in graph:\n",
        "        current_community_index = 0\n",
        "        for community in communities:\n",
        "            if node in community:\n",
        "                node_colors.append(colors[current_community_index])\n",
        "                break\n",
        "            current_community_index += 1\n",
        "    return node_colors\n",
        "\n",
        "\n",
        "# function to plot graph with node colouring based on communities\n",
        "def visualize_communities(graph, communities, i):\n",
        "    node_colors = create_community_node_colors(graph, communities)\n",
        "    modularity = round(nx.community.modularity(graph, communities), 6)\n",
        "    title = f\"Community Visualization of {len(communities)} communities with modularity of {modularity}\"\n",
        "    pos = nx.spring_layout(graph, k=0.3, iterations=50, seed=2)\n",
        "    plt.subplot(3, 1, i)\n",
        "    plt.title(title)\n",
        "    nx.draw(\n",
        "        graph,\n",
        "        pos=pos,\n",
        "        node_size=1000,\n",
        "        node_color=node_colors,\n",
        "        with_labels=True,\n",
        "        font_size=20,\n",
        "        font_color=\"black\",\n",
        "    )\n",
        "\n",
        "fig, ax = plt.subplots(3, figsize=(15, 20))\n",
        "\n",
        "# Plot graph with colouring based on communities\n",
        "visualize_communities(G, communities[0], 1)\n",
        "visualize_communities(G, communities[3], 2)\n",
        "\n",
        "modularity_df.plot.line(\n",
        "    x=\"k\",\n",
        "    y=\"Modularity\",\n",
        "    ax=ax[2],\n",
        "    color=\"#F2D140\",\n",
        "    title=\"Modularity Trend for Girvan-Newman Community Detection\",\n",
        "    marker='o',  # Thêm dấu chấm tại mỗi điểm trên đường\n",
        ")\n",
        "\n",
        "plt.show()"
      ],
      "metadata": {
        "id": "H_68XpkZOXQN"
      },
      "execution_count": null,
      "outputs": []
    },
    {
      "cell_type": "code",
      "source": [
        "import networkx as nx\n",
        "import pandas as pd\n",
        "import matplotlib.pyplot as plt\n",
        "import numpy as np\n",
        "\n",
        "class CommunityAnalyzer:\n",
        "    def __init__(self, G):\n",
        "        self.G = G\n",
        "        self.communities = list(nx.community.girvan_newman(G))\n",
        "\n",
        "    def modularity_ratio(self, G, community):\n",
        "        \"\"\"Calculate modularity ratio for a community\"\"\"\n",
        "        community = list(community)\n",
        "        edges_between_community = 0\n",
        "        for node in community:\n",
        "            neighbors = set(G.neighbors(node))\n",
        "            edges_between_community += sum(1 for n in neighbors if n in community)\n",
        "        edges_between_community //= 2\n",
        "        expected_edges = sum(G.degree(node) for node in community)**2 / (2 * G.size())\n",
        "        return edges_between_community / expected_edges if expected_edges != 0 else 0\n",
        "\n",
        "    def volume(self, G, community):\n",
        "        \"\"\"Calculate volume of a community\"\"\"\n",
        "        return sum(G.degree(node) for node in list(community))\n",
        "\n",
        "    def edges_cut(self, G, community):\n",
        "        \"\"\"Calculate number of edges cut for a community\"\"\"\n",
        "        community = list(community)\n",
        "        return sum(1 for node in community\n",
        "                  for neighbor in G.neighbors(node)\n",
        "                  if neighbor not in community)\n",
        "\n",
        "    def analyze_communities(self):\n",
        "        \"\"\"Analyze communities and calculate metrics\"\"\"\n",
        "        metrics_data = []\n",
        "        for k in range(len(self.communities)//2):\n",
        "            for community in self.communities[k]:\n",
        "                metrics_data.append({\n",
        "                    'k': k + 1,\n",
        "                    'modularity': nx.community.modularity(self.G, self.communities[k]),\n",
        "                    'modularity_ratio': self.modularity_ratio(self.G, community),\n",
        "                    'volume': self.volume(self.G, community),\n",
        "                    'edges_cut': self.edges_cut(self.G, community)\n",
        "                })\n",
        "        return pd.DataFrame(metrics_data)\n",
        "\n",
        "    def plot_metrics(self, metrics_df):\n",
        "        print(metrics_df)\n",
        "        \"\"\"Create visualizations for metrics and communities\"\"\"\n",
        "        # First figure: Community visualizations and modularity\n",
        "        fig1, axes1 = plt.subplots(3, 1, figsize=(15, 20))\n",
        "        fig1.suptitle('Community Structure Analysis', fontsize=16)\n",
        "\n",
        "        # Plot communities\n",
        "        for idx, k in enumerate([0, 3]):\n",
        "            communities = self.communities[k]\n",
        "            modularity = round(nx.community.modularity(self.G, communities), 6)\n",
        "            pos = nx.spring_layout(self.G, k=0.3, iterations=50, seed=2)\n",
        "\n",
        "            axes1[idx].set_title(f\"{len(communities)} Communities (Modularity: {modularity})\")\n",
        "            colors = [\"#D4FCB1\", \"#CDC5FC\", \"#FFC2C4\", \"#F2D140\", \"#BCC6C8\"]\n",
        "            node_colors = [colors[list(map(lambda c: node in c, communities)).index(True) % len(colors)]\n",
        "                         for node in self.G.nodes()]\n",
        "\n",
        "            nx.draw(self.G, pos=pos, node_color=node_colors, node_size=1000,\n",
        "                   with_labels=True, font_size=10, font_color=\"black\", ax=axes1[idx])\n",
        "\n",
        "        # Plot modularity trend\n",
        "        metrics_df.groupby('k')['modularity'].first().plot(\n",
        "            ax=axes1[2], color=\"#F2D140\", marker='o',\n",
        "            title=\"Modularity Trend\")\n",
        "        axes1[2].set_xlabel(\"Number of Communities (k)\")\n",
        "        axes1[2].set_ylabel(\"Modularity\")\n",
        "        axes1[2].grid(True, alpha=0.3)\n",
        "\n",
        "        # Second figure: Other metrics\n",
        "        fig2, axes2 = plt.subplots(3, 1, figsize=(15, 20))\n",
        "        fig2.suptitle('Community Metrics Analysis', fontsize=16)\n",
        "\n",
        "        metrics = {\n",
        "            'modularity_ratio': 'Modularity Ratio',\n",
        "            'volume': 'Volume',\n",
        "            'edges_cut': 'Edges Cut'\n",
        "        }\n",
        "\n",
        "        for idx, (metric, title) in enumerate(metrics.items()):\n",
        "            metrics_df.groupby('k')[metric].mean().plot(\n",
        "                ax=axes2[idx], color=\"#F2D140\", marker='o',\n",
        "                title=f\"{title} Trend\")\n",
        "            axes2[idx].set_xlabel(\"Number of Communities (k)\")\n",
        "            axes2[idx].set_ylabel(title)\n",
        "            axes2[idx].grid(True, alpha=0.3)\n",
        "\n",
        "        plt.tight_layout()\n",
        "        plt.show()\n",
        "\n",
        "        return fig1, fig2\n",
        "\n",
        "def main():\n",
        "    # Create and analyze karate club network\n",
        "    G = nx.karate_club_graph()\n",
        "    print(f\"Network Info: {G.number_of_nodes()} nodes, {G.number_of_edges()} edges\")\n",
        "\n",
        "    # Initialize analyzer and calculate metrics\n",
        "    analyzer = CommunityAnalyzer(G)\n",
        "    metrics_df = analyzer.analyze_communities()\n",
        "\n",
        "    # Display metrics\n",
        "    print(\"\\nCommunity Detection Metrics Summary:\")\n",
        "    summary = metrics_df.groupby('k').agg({\n",
        "        'modularity': 'first',\n",
        "        'modularity_ratio': 'mean',\n",
        "        'volume': 'mean',\n",
        "        'edges_cut': 'mean'\n",
        "    }).round(3)\n",
        "    print(summary)\n",
        "\n",
        "    # Create visualizations\n",
        "    analyzer.plot_metrics(metrics_df)\n",
        "\n",
        "if __name__ == \"__main__\":\n",
        "    main()"
      ],
      "metadata": {
        "id": "V2Da47LJOYAD"
      },
      "execution_count": null,
      "outputs": []
    }
  ]
}